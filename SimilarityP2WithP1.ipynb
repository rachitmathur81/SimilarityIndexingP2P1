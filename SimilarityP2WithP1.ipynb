{
 "cells": [
  {
   "cell_type": "markdown",
   "metadata": {},
   "source": [
    "## Key Idea:\n",
    "Often in IT Operations (production), the operations teams encounter high priority and low priority incident or issues. There are times when incidents that are tagged as low priority cause an impact similar to high priority. This problem is often compunded by high volume of low priority incidents which makes it very difficult to identify such outliers.\n",
    "\n",
    "The idea here is to find low priority incidents that look like a high priority incidents. The Operation teams can then be alerted of these cases and requried action can be taken to address such incidents (instead of waiting out and acting late as per the signed SLA)"
   ]
  },
  {
   "cell_type": "code",
   "execution_count": 174,
   "metadata": {},
   "outputs": [],
   "source": [
    "from collections import defaultdict\n",
    "from gensim import corpora\n",
    "from gensim.parsing.preprocessing import remove_stopwords\n",
    "import numpy as np\n",
    "import os\n",
    "import pandas as pd\n",
    "\n",
    "#Read the input CSV into a Pandas dataframe\n",
    "incident_data_raw = pd.read_csv(\"incident_dataset.csv\")\n"
   ]
  },
  {
   "cell_type": "code",
   "execution_count": 175,
   "metadata": {},
   "outputs": [
    {
     "name": "stdout",
     "output_type": "stream",
     "text": [
      "Incidents    When my Mac boots, it shows an unsupporterd so...\n",
      "Name: 3, dtype: object\n",
      "                                           Incidents\n",
      "0              My Mac fails to boot, what can I do ?\n",
      "1                    Mac Air got infected by a Virus\n",
      "2   My Mac is having boot problems, how do I fix it?\n",
      "3  When my Mac boots, it shows an unsupporterd so...\n",
      "4    I see a flicker in my monitor. Is that a virus?\n"
     ]
    }
   ],
   "source": [
    "print(incident_data_raw.loc[3,:])\n",
    "print(incident_data_raw.head())"
   ]
  },
  {
   "cell_type": "code",
   "execution_count": 176,
   "metadata": {},
   "outputs": [],
   "source": [
    "incident_data = incident_data_raw[\"Incidents\"]"
   ]
  },
  {
   "cell_type": "code",
   "execution_count": 177,
   "metadata": {},
   "outputs": [],
   "source": [
    "def process_document(document):\n",
    "\n",
    "    #Remove stopwords, convert to lower case and remove \"?\" character\n",
    "    cleaned_document = remove_stopwords(document.lower()).replace(\"?\",\"\")  \n",
    "    return cleaned_document.split()\n"
   ]
  },
  {
   "cell_type": "code",
   "execution_count": 178,
   "metadata": {},
   "outputs": [
    {
     "name": "stdout",
     "output_type": "stream",
     "text": [
      "Mac Air got infected by a Virus\n",
      "['mac', 'air', 'got', 'infected', 'virus']\n"
     ]
    }
   ],
   "source": [
    "#Create a document vector for P1 \n",
    "doc_vectors_P1=[process_document(document)\n",
    "            for document in incident_data]\n",
    "\n",
    "\n",
    "#Print the document and the corresponding document vector to compare\n",
    "print(incident_data[1])\n",
    "print(doc_vectors_P1[1])\n"
   ]
  },
  {
   "cell_type": "markdown",
   "metadata": {},
   "source": [
    "# LSI Model"
   ]
  },
  {
   "cell_type": "code",
   "execution_count": 179,
   "metadata": {},
   "outputs": [
    {
     "data": {
      "text/plain": [
       "{'boot,': 0,\n",
       " 'fails': 1,\n",
       " 'mac': 2,\n",
       " 'air': 3,\n",
       " 'got': 4,\n",
       " 'infected': 5,\n",
       " 'virus': 6,\n",
       " 'boot': 7,\n",
       " 'fix': 8,\n",
       " 'having': 9,\n",
       " 'it': 10,\n",
       " 'problems,': 11,\n",
       " 'boots,': 12,\n",
       " 'error': 13,\n",
       " 'shows': 14,\n",
       " 'software': 15,\n",
       " 'unsupporterd': 16,\n",
       " 'flicker': 17,\n",
       " 'monitor.': 18,\n",
       " 'production': 19,\n",
       " 'serv234': 20,\n",
       " 'server': 21,\n",
       " 'affected': 22,\n",
       " 'multiple': 23,\n",
       " 'users': 24,\n",
       " 'working': 25,\n",
       " 'stopped': 26,\n",
       " 'booting': 27,\n",
       " 'laptop': 28}"
      ]
     },
     "execution_count": 179,
     "metadata": {},
     "output_type": "execute_result"
    }
   ],
   "source": [
    "# create dictory\n",
    "\n",
    "dictionary = corpora.Dictionary(doc_vectors_P1)\n",
    "dictionary.token2id"
   ]
  },
  {
   "cell_type": "code",
   "execution_count": 180,
   "metadata": {},
   "outputs": [
    {
     "name": "stdout",
     "output_type": "stream",
     "text": [
      "['mac', 'air', 'got', 'infected', 'virus']\n",
      "[(2, 1), (3, 1), (4, 1), (5, 1), (6, 1)]\n"
     ]
    }
   ],
   "source": [
    "#Create a corpus\n",
    "corpus = [dictionary.doc2bow(doc_vector) \n",
    "          for doc_vector in doc_vectors_P1]\n",
    "\n",
    "#Review the corpus generated\n",
    "print(doc_vectors_P1[1])\n",
    "print(corpus[1])\n",
    "#first value in the tuple is the dictionary and 2nd shows how many times the word appears in the corpus"
   ]
  },
  {
   "cell_type": "code",
   "execution_count": 181,
   "metadata": {},
   "outputs": [
    {
     "name": "stdout",
     "output_type": "stream",
     "text": [
      "[ 1.          0.9995185   0.99861073  0.99861073  0.994354   -0.00579155\n",
      "  0.04979836  0.9094494  -0.01700222]\n",
      "[ 0.9995185   0.99999994  0.99976486  0.99976486  0.99716777 -0.03681697\n",
      "  0.01878416  0.8961092  -0.04801827]\n",
      "[ 0.99861073  0.99976486  1.          1.          0.99856406 -0.05847588\n",
      " -0.00289869  0.88627523 -0.06966422]\n",
      "[ 0.99861073  0.99976486  1.          1.          0.99856406 -0.05847588\n",
      " -0.00289869  0.88627523 -0.06966422]\n",
      "[ 0.994354    0.99716777  0.99856406  0.99856406  1.         -0.11187086\n",
      " -0.05646493  0.8601909  -0.12300466]\n",
      "[-0.00579155 -0.03681697 -0.05847588 -0.05847588 -0.11187086  1.\n",
      "  0.9984541   0.41054055  0.9999371 ]\n",
      "[ 0.04979836  0.01878416 -0.00289869 -0.00289869 -0.05646493  0.9984541\n",
      "  0.99999994  0.46058783  0.99776816]\n",
      "[0.9094494  0.8961092  0.88627523 0.88627523 0.8601909  0.41054055\n",
      " 0.46058783 0.99999994 0.40029186]\n",
      "[-0.01700222 -0.04801827 -0.06966422 -0.06966422 -0.12300466  0.9999371\n",
      "  0.99776816  0.40029186  0.99999994]\n",
      "[(0, 0.9245531995434395), (1, -0.09789140424049778)]\n",
      "[(0, 1.3391510798660426), (1, -0.1839657384327726)]\n",
      "[(0, 1.618233390684353), (1, -0.2581690296382818)]\n",
      "[(0, 1.618233390684355), (1, -0.25816902963827904)]\n",
      "[(0, 0.22324876624226198), (1, -0.048004196252198886)]\n",
      "[(0, 0.0533580318421905), (1, 0.5334379057570976)]\n",
      "[(0, 0.32006656593773486), (1, 2.044285831285937)]\n",
      "[(0, 0.9702869892253683), (1, 0.32515608410711516)]\n",
      "[(0, 0.1280658084289751), (1, 1.4435596517477056)]\n"
     ]
    }
   ],
   "source": [
    "## Building LSI Model\n",
    "from gensim import models,similarities\n",
    "\n",
    "#Create the model , represent each document in 2 dimentional space\n",
    "lsi = models.LsiModel(corpus, id2word=dictionary,num_topics = 2)\n",
    "\n",
    "\n",
    "#Create a similarity Index\n",
    "index = similarities.MatrixSimilarity(lsi[corpus])\n",
    "\n",
    "for similarities in index:\n",
    "    print(similarities)\n",
    "## Matrix - Similarity is high ~1 when compared to itself\n",
    "\n",
    "for doc in lsi[corpus]:\n",
    "\n",
    "    print(doc)"
   ]
  },
  {
   "cell_type": "markdown",
   "metadata": {},
   "source": [
    "# Score Unseen P2 incidents and see if they match with a P1"
   ]
  },
  {
   "cell_type": "code",
   "execution_count": 182,
   "metadata": {},
   "outputs": [],
   "source": [
    "p2_example1 = 'My Mac does not boot, what can I do ?'\n",
    "p2_example2 = 'Backup Failed on Serv1'\n",
    "p2_example3 = 'My Monitor does not show in proper resolution when connected to my Mac. How do I fix it?'\n",
    "p2_example4 = 'Laptop not booting'"
   ]
  },
  {
   "cell_type": "code",
   "execution_count": 183,
   "metadata": {},
   "outputs": [
    {
     "name": "stdout",
     "output_type": "stream",
     "text": [
      "Question translated to : [(27, 1), (28, 1)]\n",
      "Similarity scores : [(0, -0.03821995), (1, -0.069207594), (2, -0.0908216), (3, -0.0908216), (4, -0.14404042), (5, 0.9994739), (6, 0.99612623), (7, 0.3807517), (8, 0.9997747)]\n"
     ]
    }
   ],
   "source": [
    "#Pre Process the Question \n",
    "p2_corpus = dictionary.doc2bow(process_document(p2_example4))\n",
    "print(\"Question translated to :\", p2_corpus)\n",
    "\n",
    "#Create an LSI Representation\n",
    "vec_lsi = lsi[p2_corpus]  \n",
    "\n",
    "#Find similarity of the question with existing documents\n",
    "sims = index[vec_lsi]  \n",
    "print(\"Similarity scores :\",list(enumerate(sims)))"
   ]
  },
  {
   "cell_type": "code",
   "execution_count": 184,
   "metadata": {},
   "outputs": [
    {
     "name": "stdout",
     "output_type": "stream",
     "text": [
      "Sorted Document index : [8 5 6 7 0 1 3 2 4]\n",
      "\n",
      " ------------------------------------------------------------ \n",
      "\n",
      "0.9997747  ->  Laptop not booting for multiple users\n",
      "0.9994739  ->  Production server down Serv234\n",
      "0.99612623  ->  Production not working multiple users affected\n",
      "0.3807517  ->  Mac stopped working\n",
      "-0.03821995  ->  My Mac fails to boot, what can I do ?\n",
      "-0.069207594  ->  Mac Air got infected by a Virus\n",
      "-0.0908216  ->  When my Mac boots, it shows an unsupporterd software error\n",
      "-0.0908216  ->  My Mac is having boot problems, how do I fix it?\n",
      "-0.14404042  ->  I see a flicker in my monitor. Is that a virus?\n"
     ]
    }
   ],
   "source": [
    "#sort an array in reverse order and get indexes\n",
    "matches=np.argsort(sims)[::-1] \n",
    "print(\"Sorted Document index :\", matches)\n",
    "\n",
    "print(\"\\n\", \"-\"*60, \"\\n\")\n",
    "for i in matches:\n",
    "    print(sims[i], \" -> \", incident_data_raw.iloc[i][\"Incidents\"])\n",
    "\n"
   ]
  },
  {
   "cell_type": "code",
   "execution_count": 185,
   "metadata": {},
   "outputs": [
    {
     "name": "stdout",
     "output_type": "stream",
     "text": [
      "0.9997747\n",
      "Beware : This looks like a possible P1 - solve it ASAP\n"
     ]
    }
   ],
   "source": [
    "## Identify the maximum similarity score. If score >0.8 then call the P2 as a potential P1\n",
    "\n",
    "maxSimilarityScoreP1 = max(sims)\n",
    "print(maxSimilarityScoreP1)\n",
    "\n",
    "if maxSimilarityScoreP1>0.5:\n",
    "    print ('Beware : This looks like a possible P1 - solve it ASAP')\n",
    "else:\n",
    "     print ('Just a regular p2')"
   ]
  }
 ],
 "metadata": {
  "kernelspec": {
   "display_name": "Python 3",
   "language": "python",
   "name": "python3"
  },
  "language_info": {
   "codemirror_mode": {
    "name": "ipython",
    "version": 3
   },
   "file_extension": ".py",
   "mimetype": "text/x-python",
   "name": "python",
   "nbconvert_exporter": "python",
   "pygments_lexer": "ipython3",
   "version": "3.7.7"
  }
 },
 "nbformat": 4,
 "nbformat_minor": 4
}
